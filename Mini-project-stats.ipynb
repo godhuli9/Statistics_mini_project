{
 "cells": [
  {
   "cell_type": "markdown",
   "metadata": {},
   "source": [
    "### Importing the useful libraries"
   ]
  },
  {
   "cell_type": "code",
   "execution_count": 1,
   "metadata": {},
   "outputs": [],
   "source": [
    "import pandas as pd\n",
    "import numpy as np\n",
    "import matplotlib.pyplot as plt\n",
    "import seaborn as sns"
   ]
  },
  {
   "cell_type": "markdown",
   "metadata": {},
   "source": [
    "### 1. You were recently hired as a business analyst in a top sports company. The senior management team has asked you to come up with metrics with which they can gauge which team will win the upcoming La Liga cup (Football tournament). The given data set contains information on all the teams that have so far participated in all the past tournaments. It has data about how many goals each team scored, conceded; how many times they came within the first 6 positions, how many seasons they have qualified, their best position in the past, etc. You are required to do the following:"
   ]
  },
  {
   "cell_type": "markdown",
   "metadata": {},
   "source": [
    "### Loading and reading the dataset"
   ]
  },
  {
   "cell_type": "code",
   "execution_count": 2,
   "metadata": {},
   "outputs": [
    {
     "data": {
      "text/html": [
       "<div>\n",
       "<style scoped>\n",
       "    .dataframe tbody tr th:only-of-type {\n",
       "        vertical-align: middle;\n",
       "    }\n",
       "\n",
       "    .dataframe tbody tr th {\n",
       "        vertical-align: top;\n",
       "    }\n",
       "\n",
       "    .dataframe thead th {\n",
       "        text-align: right;\n",
       "    }\n",
       "</style>\n",
       "<table border=\"1\" class=\"dataframe\">\n",
       "  <thead>\n",
       "    <tr style=\"text-align: right;\">\n",
       "      <th></th>\n",
       "      <th>Pos</th>\n",
       "      <th>Team</th>\n",
       "      <th>Seasons</th>\n",
       "      <th>Points</th>\n",
       "      <th>GamesPlayed</th>\n",
       "      <th>GamesWon</th>\n",
       "      <th>GamesDrawn</th>\n",
       "      <th>GamesLost</th>\n",
       "      <th>GoalsFor</th>\n",
       "      <th>GoalsAgainst</th>\n",
       "      <th>Champion</th>\n",
       "      <th>Runner-up</th>\n",
       "      <th>Third</th>\n",
       "      <th>Fourth</th>\n",
       "      <th>Fifth</th>\n",
       "      <th>Sixth</th>\n",
       "      <th>T</th>\n",
       "      <th>Debut</th>\n",
       "      <th>Since/LastApp</th>\n",
       "      <th>BestPosition</th>\n",
       "    </tr>\n",
       "  </thead>\n",
       "  <tbody>\n",
       "    <tr>\n",
       "      <th>0</th>\n",
       "      <td>1</td>\n",
       "      <td>Real Madrid</td>\n",
       "      <td>86</td>\n",
       "      <td>4385</td>\n",
       "      <td>2762</td>\n",
       "      <td>1647</td>\n",
       "      <td>552</td>\n",
       "      <td>563</td>\n",
       "      <td>5947</td>\n",
       "      <td>3140</td>\n",
       "      <td>33</td>\n",
       "      <td>23</td>\n",
       "      <td>8</td>\n",
       "      <td>8</td>\n",
       "      <td>3</td>\n",
       "      <td>4</td>\n",
       "      <td>79</td>\n",
       "      <td>1929</td>\n",
       "      <td>1929</td>\n",
       "      <td>1</td>\n",
       "    </tr>\n",
       "    <tr>\n",
       "      <th>1</th>\n",
       "      <td>2</td>\n",
       "      <td>Barcelona</td>\n",
       "      <td>86</td>\n",
       "      <td>4262</td>\n",
       "      <td>2762</td>\n",
       "      <td>1581</td>\n",
       "      <td>573</td>\n",
       "      <td>608</td>\n",
       "      <td>5900</td>\n",
       "      <td>3114</td>\n",
       "      <td>25</td>\n",
       "      <td>25</td>\n",
       "      <td>12</td>\n",
       "      <td>12</td>\n",
       "      <td>4</td>\n",
       "      <td>6</td>\n",
       "      <td>83</td>\n",
       "      <td>1929</td>\n",
       "      <td>1929</td>\n",
       "      <td>1</td>\n",
       "    </tr>\n",
       "    <tr>\n",
       "      <th>2</th>\n",
       "      <td>3</td>\n",
       "      <td>Atletico Madrid</td>\n",
       "      <td>80</td>\n",
       "      <td>3442</td>\n",
       "      <td>2614</td>\n",
       "      <td>1241</td>\n",
       "      <td>598</td>\n",
       "      <td>775</td>\n",
       "      <td>4534</td>\n",
       "      <td>3309</td>\n",
       "      <td>10</td>\n",
       "      <td>8</td>\n",
       "      <td>16</td>\n",
       "      <td>9</td>\n",
       "      <td>7</td>\n",
       "      <td>6</td>\n",
       "      <td>56</td>\n",
       "      <td>1929</td>\n",
       "      <td>2002-03</td>\n",
       "      <td>1</td>\n",
       "    </tr>\n",
       "    <tr>\n",
       "      <th>3</th>\n",
       "      <td>4</td>\n",
       "      <td>Valencia</td>\n",
       "      <td>82</td>\n",
       "      <td>3386</td>\n",
       "      <td>2664</td>\n",
       "      <td>1187</td>\n",
       "      <td>616</td>\n",
       "      <td>861</td>\n",
       "      <td>4398</td>\n",
       "      <td>3469</td>\n",
       "      <td>6</td>\n",
       "      <td>6</td>\n",
       "      <td>10</td>\n",
       "      <td>11</td>\n",
       "      <td>10</td>\n",
       "      <td>7</td>\n",
       "      <td>50</td>\n",
       "      <td>1931-32</td>\n",
       "      <td>1987-88</td>\n",
       "      <td>1</td>\n",
       "    </tr>\n",
       "    <tr>\n",
       "      <th>4</th>\n",
       "      <td>5</td>\n",
       "      <td>Athletic Bilbao</td>\n",
       "      <td>86</td>\n",
       "      <td>3368</td>\n",
       "      <td>2762</td>\n",
       "      <td>1209</td>\n",
       "      <td>633</td>\n",
       "      <td>920</td>\n",
       "      <td>4631</td>\n",
       "      <td>3700</td>\n",
       "      <td>8</td>\n",
       "      <td>7</td>\n",
       "      <td>10</td>\n",
       "      <td>5</td>\n",
       "      <td>8</td>\n",
       "      <td>10</td>\n",
       "      <td>49</td>\n",
       "      <td>1929</td>\n",
       "      <td>1929</td>\n",
       "      <td>1</td>\n",
       "    </tr>\n",
       "  </tbody>\n",
       "</table>\n",
       "</div>"
      ],
      "text/plain": [
       "   Pos             Team  Seasons Points GamesPlayed GamesWon GamesDrawn  \\\n",
       "0    1      Real Madrid       86   4385        2762     1647        552   \n",
       "1    2        Barcelona       86   4262        2762     1581        573   \n",
       "2    3  Atletico Madrid       80   3442        2614     1241        598   \n",
       "3    4         Valencia       82   3386        2664     1187        616   \n",
       "4    5  Athletic Bilbao       86   3368        2762     1209        633   \n",
       "\n",
       "  GamesLost GoalsFor GoalsAgainst Champion Runner-up Third Fourth Fifth Sixth  \\\n",
       "0       563     5947         3140       33        23     8      8     3     4   \n",
       "1       608     5900         3114       25        25    12     12     4     6   \n",
       "2       775     4534         3309       10         8    16      9     7     6   \n",
       "3       861     4398         3469        6         6    10     11    10     7   \n",
       "4       920     4631         3700        8         7    10      5     8    10   \n",
       "\n",
       "    T    Debut Since/LastApp  BestPosition  \n",
       "0  79     1929          1929             1  \n",
       "1  83     1929          1929             1  \n",
       "2  56     1929       2002-03             1  \n",
       "3  50  1931-32       1987-88             1  \n",
       "4  49     1929          1929             1  "
      ]
     },
     "execution_count": 2,
     "metadata": {},
     "output_type": "execute_result"
    }
   ],
   "source": [
    "liga_df = pd.read_csv('Laliga.csv')\n",
    "liga_df.head()"
   ]
  },
  {
   "cell_type": "code",
   "execution_count": 3,
   "metadata": {},
   "outputs": [
    {
     "name": "stdout",
     "output_type": "stream",
     "text": [
      "<class 'pandas.core.frame.DataFrame'>\n",
      "RangeIndex: 61 entries, 0 to 60\n",
      "Data columns (total 20 columns):\n",
      " #   Column         Non-Null Count  Dtype \n",
      "---  ------         --------------  ----- \n",
      " 0   Pos            61 non-null     int64 \n",
      " 1   Team           61 non-null     object\n",
      " 2   Seasons        61 non-null     int64 \n",
      " 3   Points         61 non-null     object\n",
      " 4   GamesPlayed    61 non-null     object\n",
      " 5   GamesWon       61 non-null     object\n",
      " 6   GamesDrawn     61 non-null     object\n",
      " 7   GamesLost      61 non-null     object\n",
      " 8   GoalsFor       61 non-null     object\n",
      " 9   GoalsAgainst   61 non-null     object\n",
      " 10  Champion       61 non-null     object\n",
      " 11  Runner-up      61 non-null     object\n",
      " 12  Third          61 non-null     object\n",
      " 13  Fourth         61 non-null     object\n",
      " 14  Fifth          61 non-null     object\n",
      " 15  Sixth          61 non-null     object\n",
      " 16  T              61 non-null     object\n",
      " 17  Debut          61 non-null     object\n",
      " 18  Since/LastApp  61 non-null     object\n",
      " 19  BestPosition   61 non-null     int64 \n",
      "dtypes: int64(3), object(17)\n",
      "memory usage: 9.7+ KB\n"
     ]
    }
   ],
   "source": [
    "liga_df.info()"
   ]
  },
  {
   "cell_type": "markdown",
   "metadata": {},
   "source": [
    "### Data pre-processing:-"
   ]
  },
  {
   "cell_type": "code",
   "execution_count": 4,
   "metadata": {},
   "outputs": [],
   "source": [
    "#Replacing the \"-\" values with null\n",
    "liga_df.replace('-',np.nan,inplace = True)"
   ]
  },
  {
   "cell_type": "code",
   "execution_count": 5,
   "metadata": {},
   "outputs": [
    {
     "data": {
      "text/plain": [
       "Pos               0.000000\n",
       "Team              0.000000\n",
       "Seasons           0.000000\n",
       "Points            1.639344\n",
       "GamesPlayed       1.639344\n",
       "GamesWon          1.639344\n",
       "GamesDrawn        1.639344\n",
       "GamesLost         1.639344\n",
       "GoalsFor          1.639344\n",
       "GoalsAgainst      1.639344\n",
       "Champion         85.245902\n",
       "Runner-up        78.688525\n",
       "Third            70.491803\n",
       "Fourth           63.934426\n",
       "Fifth            59.016393\n",
       "Sixth            54.098361\n",
       "T                45.901639\n",
       "Debut             0.000000\n",
       "Since/LastApp     0.000000\n",
       "BestPosition      0.000000\n",
       "dtype: float64"
      ]
     },
     "execution_count": 5,
     "metadata": {},
     "output_type": "execute_result"
    }
   ],
   "source": [
    "# % of null values in each column\n",
    "liga_df.isnull().sum()/len(liga_df)*100"
   ]
  },
  {
   "cell_type": "code",
   "execution_count": 6,
   "metadata": {},
   "outputs": [
    {
     "data": {
      "text/plain": [
       "Index(['Pos', 'Team', 'Seasons', 'Points', 'GamesPlayed', 'GamesWon',\n",
       "       'GamesDrawn', 'GamesLost', 'GoalsFor', 'GoalsAgainst', 'Champion',\n",
       "       'Runner-up', 'Third', 'Fourth', 'Fifth', 'Sixth', 'T', 'Debut',\n",
       "       'Since/LastApp', 'BestPosition'],\n",
       "      dtype='object')"
      ]
     },
     "execution_count": 6,
     "metadata": {},
     "output_type": "execute_result"
    }
   ],
   "source": [
    "liga_df.columns"
   ]
  },
  {
   "cell_type": "code",
   "execution_count": 7,
   "metadata": {},
   "outputs": [],
   "source": [
    "#removing the hypen(-) and considering only the first year\n",
    "liga_df['Debut'] = liga_df['Debut'].apply(lambda x:x.split('-')[0])\n",
    "liga_df['Since/LastApp'] = liga_df['Since/LastApp'].apply(lambda x:x.split('-')[0])"
   ]
  },
  {
   "cell_type": "code",
   "execution_count": 8,
   "metadata": {},
   "outputs": [],
   "source": [
    "liga_df[['Pos', 'Seasons', 'Points', 'GamesPlayed', 'GamesWon','GamesDrawn', 'GamesLost', 'GoalsFor', 'GoalsAgainst', 'Champion','Runner-up', 'Third', 'Fourth', 'Fifth', 'Sixth', 'T', 'Debut','Since/LastApp']]=liga_df[['Pos', 'Seasons', 'Points', 'GamesPlayed', 'GamesWon','GamesDrawn', 'GamesLost', 'GoalsFor', 'GoalsAgainst', 'Champion','Runner-up', 'Third', 'Fourth', 'Fifth', 'Sixth', 'T', 'Debut','Since/LastApp']].apply(pd.to_numeric)"
   ]
  },
  {
   "cell_type": "code",
   "execution_count": 9,
   "metadata": {},
   "outputs": [
    {
     "data": {
      "text/plain": [
       "Pos                int64\n",
       "Team              object\n",
       "Seasons            int64\n",
       "Points           float64\n",
       "GamesPlayed      float64\n",
       "GamesWon         float64\n",
       "GamesDrawn       float64\n",
       "GamesLost        float64\n",
       "GoalsFor         float64\n",
       "GoalsAgainst     float64\n",
       "Champion         float64\n",
       "Runner-up        float64\n",
       "Third            float64\n",
       "Fourth           float64\n",
       "Fifth            float64\n",
       "Sixth            float64\n",
       "T                float64\n",
       "Debut              int64\n",
       "Since/LastApp      int64\n",
       "BestPosition       int64\n",
       "dtype: object"
      ]
     },
     "execution_count": 9,
     "metadata": {},
     "output_type": "execute_result"
    }
   ],
   "source": [
    "liga_df.dtypes"
   ]
  },
  {
   "cell_type": "code",
   "execution_count": 84,
   "metadata": {
    "scrolled": true
   },
   "outputs": [
    {
     "data": {
      "text/html": [
       "<div>\n",
       "<style scoped>\n",
       "    .dataframe tbody tr th:only-of-type {\n",
       "        vertical-align: middle;\n",
       "    }\n",
       "\n",
       "    .dataframe tbody tr th {\n",
       "        vertical-align: top;\n",
       "    }\n",
       "\n",
       "    .dataframe thead th {\n",
       "        text-align: right;\n",
       "    }\n",
       "</style>\n",
       "<table border=\"1\" class=\"dataframe\">\n",
       "  <thead>\n",
       "    <tr style=\"text-align: right;\">\n",
       "      <th></th>\n",
       "      <th>count</th>\n",
       "      <th>mean</th>\n",
       "      <th>std</th>\n",
       "      <th>min</th>\n",
       "      <th>25%</th>\n",
       "      <th>50%</th>\n",
       "      <th>75%</th>\n",
       "      <th>max</th>\n",
       "    </tr>\n",
       "  </thead>\n",
       "  <tbody>\n",
       "    <tr>\n",
       "      <th>Pos</th>\n",
       "      <td>61.0</td>\n",
       "      <td>31.000000</td>\n",
       "      <td>17.752934</td>\n",
       "      <td>1.000000</td>\n",
       "      <td>16.000000</td>\n",
       "      <td>31.000000</td>\n",
       "      <td>46.000000</td>\n",
       "      <td>61.000000</td>\n",
       "    </tr>\n",
       "    <tr>\n",
       "      <th>Seasons</th>\n",
       "      <td>61.0</td>\n",
       "      <td>24.000000</td>\n",
       "      <td>26.827225</td>\n",
       "      <td>1.000000</td>\n",
       "      <td>4.000000</td>\n",
       "      <td>12.000000</td>\n",
       "      <td>38.000000</td>\n",
       "      <td>86.000000</td>\n",
       "    </tr>\n",
       "    <tr>\n",
       "      <th>Points</th>\n",
       "      <td>60.0</td>\n",
       "      <td>916.450000</td>\n",
       "      <td>1138.342899</td>\n",
       "      <td>14.000000</td>\n",
       "      <td>104.250000</td>\n",
       "      <td>395.500000</td>\n",
       "      <td>1360.500000</td>\n",
       "      <td>4385.000000</td>\n",
       "    </tr>\n",
       "    <tr>\n",
       "      <th>GamesPlayed</th>\n",
       "      <td>60.0</td>\n",
       "      <td>810.100000</td>\n",
       "      <td>877.465393</td>\n",
       "      <td>30.000000</td>\n",
       "      <td>115.500000</td>\n",
       "      <td>424.500000</td>\n",
       "      <td>1345.500000</td>\n",
       "      <td>2762.000000</td>\n",
       "    </tr>\n",
       "    <tr>\n",
       "      <th>GamesWon</th>\n",
       "      <td>60.0</td>\n",
       "      <td>309.033333</td>\n",
       "      <td>408.481395</td>\n",
       "      <td>5.000000</td>\n",
       "      <td>34.750000</td>\n",
       "      <td>124.000000</td>\n",
       "      <td>432.750000</td>\n",
       "      <td>1647.000000</td>\n",
       "    </tr>\n",
       "    <tr>\n",
       "      <th>GamesDrawn</th>\n",
       "      <td>60.0</td>\n",
       "      <td>192.083333</td>\n",
       "      <td>201.985508</td>\n",
       "      <td>4.000000</td>\n",
       "      <td>26.250000</td>\n",
       "      <td>98.500000</td>\n",
       "      <td>331.500000</td>\n",
       "      <td>633.000000</td>\n",
       "    </tr>\n",
       "    <tr>\n",
       "      <th>GamesLost</th>\n",
       "      <td>60.0</td>\n",
       "      <td>308.816667</td>\n",
       "      <td>294.508639</td>\n",
       "      <td>15.000000</td>\n",
       "      <td>62.750000</td>\n",
       "      <td>197.500000</td>\n",
       "      <td>563.500000</td>\n",
       "      <td>1070.000000</td>\n",
       "    </tr>\n",
       "    <tr>\n",
       "      <th>GoalsFor</th>\n",
       "      <td>60.0</td>\n",
       "      <td>1159.350000</td>\n",
       "      <td>1512.063948</td>\n",
       "      <td>34.000000</td>\n",
       "      <td>154.500000</td>\n",
       "      <td>444.000000</td>\n",
       "      <td>1669.750000</td>\n",
       "      <td>5947.000000</td>\n",
       "    </tr>\n",
       "    <tr>\n",
       "      <th>GoalsAgainst</th>\n",
       "      <td>60.0</td>\n",
       "      <td>1159.233333</td>\n",
       "      <td>1163.946914</td>\n",
       "      <td>55.000000</td>\n",
       "      <td>236.000000</td>\n",
       "      <td>632.500000</td>\n",
       "      <td>2001.250000</td>\n",
       "      <td>3889.000000</td>\n",
       "    </tr>\n",
       "    <tr>\n",
       "      <th>Champion</th>\n",
       "      <td>9.0</td>\n",
       "      <td>9.666667</td>\n",
       "      <td>11.618950</td>\n",
       "      <td>1.000000</td>\n",
       "      <td>1.000000</td>\n",
       "      <td>6.000000</td>\n",
       "      <td>10.000000</td>\n",
       "      <td>33.000000</td>\n",
       "    </tr>\n",
       "    <tr>\n",
       "      <th>Runner-up</th>\n",
       "      <td>13.0</td>\n",
       "      <td>6.615385</td>\n",
       "      <td>8.109033</td>\n",
       "      <td>1.000000</td>\n",
       "      <td>1.000000</td>\n",
       "      <td>4.000000</td>\n",
       "      <td>7.000000</td>\n",
       "      <td>25.000000</td>\n",
       "    </tr>\n",
       "    <tr>\n",
       "      <th>Third</th>\n",
       "      <td>18.0</td>\n",
       "      <td>4.777778</td>\n",
       "      <td>4.492550</td>\n",
       "      <td>1.000000</td>\n",
       "      <td>1.250000</td>\n",
       "      <td>3.500000</td>\n",
       "      <td>7.000000</td>\n",
       "      <td>16.000000</td>\n",
       "    </tr>\n",
       "    <tr>\n",
       "      <th>Fourth</th>\n",
       "      <td>22.0</td>\n",
       "      <td>3.909091</td>\n",
       "      <td>3.365215</td>\n",
       "      <td>1.000000</td>\n",
       "      <td>1.250000</td>\n",
       "      <td>2.000000</td>\n",
       "      <td>5.000000</td>\n",
       "      <td>12.000000</td>\n",
       "    </tr>\n",
       "    <tr>\n",
       "      <th>Fifth</th>\n",
       "      <td>25.0</td>\n",
       "      <td>3.440000</td>\n",
       "      <td>2.902298</td>\n",
       "      <td>1.000000</td>\n",
       "      <td>2.000000</td>\n",
       "      <td>2.000000</td>\n",
       "      <td>4.000000</td>\n",
       "      <td>12.000000</td>\n",
       "    </tr>\n",
       "    <tr>\n",
       "      <th>Sixth</th>\n",
       "      <td>28.0</td>\n",
       "      <td>3.071429</td>\n",
       "      <td>2.402600</td>\n",
       "      <td>1.000000</td>\n",
       "      <td>1.000000</td>\n",
       "      <td>2.000000</td>\n",
       "      <td>4.250000</td>\n",
       "      <td>10.000000</td>\n",
       "    </tr>\n",
       "    <tr>\n",
       "      <th>T</th>\n",
       "      <td>33.0</td>\n",
       "      <td>15.666667</td>\n",
       "      <td>22.318247</td>\n",
       "      <td>1.000000</td>\n",
       "      <td>2.000000</td>\n",
       "      <td>5.000000</td>\n",
       "      <td>16.000000</td>\n",
       "      <td>83.000000</td>\n",
       "    </tr>\n",
       "    <tr>\n",
       "      <th>Debut</th>\n",
       "      <td>61.0</td>\n",
       "      <td>1958.918033</td>\n",
       "      <td>27.484114</td>\n",
       "      <td>1929.000000</td>\n",
       "      <td>1935.000000</td>\n",
       "      <td>1951.000000</td>\n",
       "      <td>1978.000000</td>\n",
       "      <td>2017.000000</td>\n",
       "    </tr>\n",
       "    <tr>\n",
       "      <th>Since/LastApp</th>\n",
       "      <td>61.0</td>\n",
       "      <td>1993.590164</td>\n",
       "      <td>27.384532</td>\n",
       "      <td>1929.000000</td>\n",
       "      <td>1987.000000</td>\n",
       "      <td>2006.000000</td>\n",
       "      <td>2014.000000</td>\n",
       "      <td>2017.000000</td>\n",
       "    </tr>\n",
       "    <tr>\n",
       "      <th>BestPosition</th>\n",
       "      <td>61.0</td>\n",
       "      <td>7.081967</td>\n",
       "      <td>5.276663</td>\n",
       "      <td>1.000000</td>\n",
       "      <td>3.000000</td>\n",
       "      <td>6.000000</td>\n",
       "      <td>10.000000</td>\n",
       "      <td>20.000000</td>\n",
       "    </tr>\n",
       "    <tr>\n",
       "      <th>Winning%</th>\n",
       "      <td>60.0</td>\n",
       "      <td>31.364790</td>\n",
       "      <td>7.831199</td>\n",
       "      <td>16.666667</td>\n",
       "      <td>27.607494</td>\n",
       "      <td>30.491722</td>\n",
       "      <td>33.540164</td>\n",
       "      <td>59.630702</td>\n",
       "    </tr>\n",
       "  </tbody>\n",
       "</table>\n",
       "</div>"
      ],
      "text/plain": [
       "               count         mean          std          min          25%  \\\n",
       "Pos             61.0    31.000000    17.752934     1.000000    16.000000   \n",
       "Seasons         61.0    24.000000    26.827225     1.000000     4.000000   \n",
       "Points          60.0   916.450000  1138.342899    14.000000   104.250000   \n",
       "GamesPlayed     60.0   810.100000   877.465393    30.000000   115.500000   \n",
       "GamesWon        60.0   309.033333   408.481395     5.000000    34.750000   \n",
       "GamesDrawn      60.0   192.083333   201.985508     4.000000    26.250000   \n",
       "GamesLost       60.0   308.816667   294.508639    15.000000    62.750000   \n",
       "GoalsFor        60.0  1159.350000  1512.063948    34.000000   154.500000   \n",
       "GoalsAgainst    60.0  1159.233333  1163.946914    55.000000   236.000000   \n",
       "Champion         9.0     9.666667    11.618950     1.000000     1.000000   \n",
       "Runner-up       13.0     6.615385     8.109033     1.000000     1.000000   \n",
       "Third           18.0     4.777778     4.492550     1.000000     1.250000   \n",
       "Fourth          22.0     3.909091     3.365215     1.000000     1.250000   \n",
       "Fifth           25.0     3.440000     2.902298     1.000000     2.000000   \n",
       "Sixth           28.0     3.071429     2.402600     1.000000     1.000000   \n",
       "T               33.0    15.666667    22.318247     1.000000     2.000000   \n",
       "Debut           61.0  1958.918033    27.484114  1929.000000  1935.000000   \n",
       "Since/LastApp   61.0  1993.590164    27.384532  1929.000000  1987.000000   \n",
       "BestPosition    61.0     7.081967     5.276663     1.000000     3.000000   \n",
       "Winning%        60.0    31.364790     7.831199    16.666667    27.607494   \n",
       "\n",
       "                       50%          75%          max  \n",
       "Pos              31.000000    46.000000    61.000000  \n",
       "Seasons          12.000000    38.000000    86.000000  \n",
       "Points          395.500000  1360.500000  4385.000000  \n",
       "GamesPlayed     424.500000  1345.500000  2762.000000  \n",
       "GamesWon        124.000000   432.750000  1647.000000  \n",
       "GamesDrawn       98.500000   331.500000   633.000000  \n",
       "GamesLost       197.500000   563.500000  1070.000000  \n",
       "GoalsFor        444.000000  1669.750000  5947.000000  \n",
       "GoalsAgainst    632.500000  2001.250000  3889.000000  \n",
       "Champion          6.000000    10.000000    33.000000  \n",
       "Runner-up         4.000000     7.000000    25.000000  \n",
       "Third             3.500000     7.000000    16.000000  \n",
       "Fourth            2.000000     5.000000    12.000000  \n",
       "Fifth             2.000000     4.000000    12.000000  \n",
       "Sixth             2.000000     4.250000    10.000000  \n",
       "T                 5.000000    16.000000    83.000000  \n",
       "Debut          1951.000000  1978.000000  2017.000000  \n",
       "Since/LastApp  2006.000000  2014.000000  2017.000000  \n",
       "BestPosition      6.000000    10.000000    20.000000  \n",
       "Winning%         30.491722    33.540164    59.630702  "
      ]
     },
     "execution_count": 84,
     "metadata": {},
     "output_type": "execute_result"
    }
   ],
   "source": [
    "# summury statistics for numerical columns\n",
    "liga_df.describe().transpose()"
   ]
  },
  {
   "cell_type": "markdown",
   "metadata": {},
   "source": [
    "#### 1.Which are the teams which started playing between 1930-1980?"
   ]
  },
  {
   "cell_type": "code",
   "execution_count": 86,
   "metadata": {},
   "outputs": [
    {
     "name": "stdout",
     "output_type": "stream",
     "text": [
      "These are the teams which started playing between 1930-1980:\n"
     ]
    },
    {
     "data": {
      "text/html": [
       "<div>\n",
       "<style scoped>\n",
       "    .dataframe tbody tr th:only-of-type {\n",
       "        vertical-align: middle;\n",
       "    }\n",
       "\n",
       "    .dataframe tbody tr th {\n",
       "        vertical-align: top;\n",
       "    }\n",
       "\n",
       "    .dataframe thead th {\n",
       "        text-align: right;\n",
       "    }\n",
       "</style>\n",
       "<table border=\"1\" class=\"dataframe\">\n",
       "  <thead>\n",
       "    <tr style=\"text-align: right;\">\n",
       "      <th></th>\n",
       "      <th>Team</th>\n",
       "    </tr>\n",
       "  </thead>\n",
       "  <tbody>\n",
       "    <tr>\n",
       "      <th>3</th>\n",
       "      <td>Valencia</td>\n",
       "    </tr>\n",
       "    <tr>\n",
       "      <th>5</th>\n",
       "      <td>Sevilla</td>\n",
       "    </tr>\n",
       "    <tr>\n",
       "      <th>8</th>\n",
       "      <td>Zaragoza</td>\n",
       "    </tr>\n",
       "    <tr>\n",
       "      <th>9</th>\n",
       "      <td>Real Betis</td>\n",
       "    </tr>\n",
       "    <tr>\n",
       "      <th>10</th>\n",
       "      <td>Deportivo La Coruna</td>\n",
       "    </tr>\n",
       "    <tr>\n",
       "      <th>11</th>\n",
       "      <td>Celta Vigo</td>\n",
       "    </tr>\n",
       "    <tr>\n",
       "      <th>12</th>\n",
       "      <td>Valladolid</td>\n",
       "    </tr>\n",
       "    <tr>\n",
       "      <th>14</th>\n",
       "      <td>Sporting Gijon</td>\n",
       "    </tr>\n",
       "    <tr>\n",
       "      <th>15</th>\n",
       "      <td>Osasuna</td>\n",
       "    </tr>\n",
       "    <tr>\n",
       "      <th>16</th>\n",
       "      <td>Malaga</td>\n",
       "    </tr>\n",
       "    <tr>\n",
       "      <th>17</th>\n",
       "      <td>Oviedo</td>\n",
       "    </tr>\n",
       "    <tr>\n",
       "      <th>18</th>\n",
       "      <td>Mallorca</td>\n",
       "    </tr>\n",
       "    <tr>\n",
       "      <th>19</th>\n",
       "      <td>Las Palmas</td>\n",
       "    </tr>\n",
       "    <tr>\n",
       "      <th>21</th>\n",
       "      <td>Granada</td>\n",
       "    </tr>\n",
       "    <tr>\n",
       "      <th>22</th>\n",
       "      <td>Rayo Vallecano</td>\n",
       "    </tr>\n",
       "    <tr>\n",
       "      <th>23</th>\n",
       "      <td>Elche</td>\n",
       "    </tr>\n",
       "    <tr>\n",
       "      <th>25</th>\n",
       "      <td>Hercules</td>\n",
       "    </tr>\n",
       "    <tr>\n",
       "      <th>26</th>\n",
       "      <td>Tenerife</td>\n",
       "    </tr>\n",
       "    <tr>\n",
       "      <th>27</th>\n",
       "      <td>Murcia</td>\n",
       "    </tr>\n",
       "    <tr>\n",
       "      <th>28</th>\n",
       "      <td>Alaves</td>\n",
       "    </tr>\n",
       "    <tr>\n",
       "      <th>29</th>\n",
       "      <td>Levante</td>\n",
       "    </tr>\n",
       "    <tr>\n",
       "      <th>30</th>\n",
       "      <td>Salamanca</td>\n",
       "    </tr>\n",
       "    <tr>\n",
       "      <th>31</th>\n",
       "      <td>Sabadell</td>\n",
       "    </tr>\n",
       "    <tr>\n",
       "      <th>32</th>\n",
       "      <td>Cadiz</td>\n",
       "    </tr>\n",
       "    <tr>\n",
       "      <th>34</th>\n",
       "      <td>Castellon</td>\n",
       "    </tr>\n",
       "    <tr>\n",
       "      <th>37</th>\n",
       "      <td>Cordoba</td>\n",
       "    </tr>\n",
       "    <tr>\n",
       "      <th>39</th>\n",
       "      <td>Recreativo</td>\n",
       "    </tr>\n",
       "    <tr>\n",
       "      <th>40</th>\n",
       "      <td>Burgos CF</td>\n",
       "    </tr>\n",
       "    <tr>\n",
       "      <th>41</th>\n",
       "      <td>Pontevedra</td>\n",
       "    </tr>\n",
       "    <tr>\n",
       "      <th>46</th>\n",
       "      <td>Gimnastic</td>\n",
       "    </tr>\n",
       "    <tr>\n",
       "      <th>49</th>\n",
       "      <td>Alcoyano</td>\n",
       "    </tr>\n",
       "    <tr>\n",
       "      <th>50</th>\n",
       "      <td>Jaen</td>\n",
       "    </tr>\n",
       "    <tr>\n",
       "      <th>52</th>\n",
       "      <td>AD Almeria</td>\n",
       "    </tr>\n",
       "    <tr>\n",
       "      <th>54</th>\n",
       "      <td>Lleida</td>\n",
       "    </tr>\n",
       "    <tr>\n",
       "      <th>57</th>\n",
       "      <td>Condal</td>\n",
       "    </tr>\n",
       "    <tr>\n",
       "      <th>58</th>\n",
       "      <td>Atletico Tetuan</td>\n",
       "    </tr>\n",
       "    <tr>\n",
       "      <th>59</th>\n",
       "      <td>Cultural Leonesa</td>\n",
       "    </tr>\n",
       "  </tbody>\n",
       "</table>\n",
       "</div>"
      ],
      "text/plain": [
       "                   Team\n",
       "3              Valencia\n",
       "5               Sevilla\n",
       "8              Zaragoza\n",
       "9            Real Betis\n",
       "10  Deportivo La Coruna\n",
       "11           Celta Vigo\n",
       "12           Valladolid\n",
       "14       Sporting Gijon\n",
       "15              Osasuna\n",
       "16               Malaga\n",
       "17               Oviedo\n",
       "18             Mallorca\n",
       "19           Las Palmas\n",
       "21              Granada\n",
       "22       Rayo Vallecano\n",
       "23                Elche\n",
       "25             Hercules\n",
       "26             Tenerife\n",
       "27               Murcia\n",
       "28               Alaves\n",
       "29              Levante\n",
       "30            Salamanca\n",
       "31             Sabadell\n",
       "32                Cadiz\n",
       "34            Castellon\n",
       "37              Cordoba\n",
       "39           Recreativo\n",
       "40            Burgos CF\n",
       "41           Pontevedra\n",
       "46            Gimnastic\n",
       "49             Alcoyano\n",
       "50                 Jaen\n",
       "52           AD Almeria\n",
       "54               Lleida\n",
       "57               Condal\n",
       "58      Atletico Tetuan\n",
       "59     Cultural Leonesa"
      ]
     },
     "execution_count": 86,
     "metadata": {},
     "output_type": "execute_result"
    }
   ],
   "source": [
    "print('These are the teams which started playing between 1930-1980:')\n",
    "liga_df[liga_df['Debut'].between(1930,1980)][['Team']]"
   ]
  },
  {
   "cell_type": "markdown",
   "metadata": {},
   "source": [
    "#### 2.Which are the top 5 teams in terms of points?"
   ]
  },
  {
   "cell_type": "code",
   "execution_count": 12,
   "metadata": {},
   "outputs": [
    {
     "name": "stdout",
     "output_type": "stream",
     "text": [
      "The top 5 teams in terms of points:\n"
     ]
    },
    {
     "data": {
      "text/plain": [
       "0        Real Madrid\n",
       "1          Barcelona\n",
       "2    Atletico Madrid\n",
       "3           Valencia\n",
       "4    Athletic Bilbao\n",
       "Name: Team, dtype: object"
      ]
     },
     "execution_count": 12,
     "metadata": {},
     "output_type": "execute_result"
    }
   ],
   "source": [
    "print('The top 5 teams in terms of points:')\n",
    "liga_df.sort_values('Points',ascending = False)['Team'].head()"
   ]
  },
  {
   "cell_type": "markdown",
   "metadata": {},
   "source": [
    "#### 3.What is the distribution of the winning percentage for all teams? Which teams are in the top 5 in terms of winning percentage?(Winning percentage= (GamesWon / GamesPlayed)*100)"
   ]
  },
  {
   "cell_type": "code",
   "execution_count": 14,
   "metadata": {},
   "outputs": [],
   "source": [
    "liga_df['Winning%'] = (liga_df['GamesWon']/liga_df['GamesPlayed'])*100"
   ]
  },
  {
   "cell_type": "code",
   "execution_count": 15,
   "metadata": {},
   "outputs": [
    {
     "data": {
      "image/png": "[encoded data removed]",
      "text/plain": [
       "<Figure size 432x288 with 1 Axes>"
      ]
     },
     "metadata": {},
     "output_type": "display_data"
    },
    {
     "name": "stdout",
     "output_type": "stream",
     "text": [
      "The distribution is slightly right-skewed.\n"
     ]
    }
   ],
   "source": [
    "sns.set(style='darkgrid')\n",
    "sns.kdeplot(liga_df['Winning%'],shade = True)\n",
    "plt.axvline(liga_df['Winning%'].mean(),color='red',label='mean')\n",
    "plt.axvline(liga_df['Winning%'].median(),color='green',label='mean')\n",
    "plt.title('Distribution of the winning percentage for all teams')\n",
    "plt.legend()\n",
    "plt.show()\n",
    "print('The distribution is slightly right-skewed.')"
   ]
  },
  {
   "cell_type": "code",
   "execution_count": 16,
   "metadata": {},
   "outputs": [
    {
     "name": "stdout",
     "output_type": "stream",
     "text": [
      "The top 5 teams in terms of winning%\n"
     ]
    },
    {
     "data": {
      "text/plain": [
       "0        Real Madrid\n",
       "1          Barcelona\n",
       "2    Atletico Madrid\n",
       "3           Valencia\n",
       "4    Athletic Bilbao\n",
       "Name: Team, dtype: object"
      ]
     },
     "execution_count": 16,
     "metadata": {},
     "output_type": "execute_result"
    }
   ],
   "source": [
    "print('The top 5 teams in terms of winning%')\n",
    "liga_df.sort_values('Winning%',ascending = False)['Team'].head()"
   ]
  },
  {
   "cell_type": "markdown",
   "metadata": {},
   "source": [
    "#### 4.Is there a significant difference in the winning percentage for teams which have attained a best position between 1-3 and those teams which have had a best position between 4-7."
   ]
  },
  {
   "cell_type": "code",
   "execution_count": 17,
   "metadata": {},
   "outputs": [
    {
     "name": "stdout",
     "output_type": "stream",
     "text": [
      "The list of the teams which have attained best position between 1-3:\n"
     ]
    },
    {
     "data": {
      "text/html": [
       "<div>\n",
       "<style scoped>\n",
       "    .dataframe tbody tr th:only-of-type {\n",
       "        vertical-align: middle;\n",
       "    }\n",
       "\n",
       "    .dataframe tbody tr th {\n",
       "        vertical-align: top;\n",
       "    }\n",
       "\n",
       "    .dataframe thead th {\n",
       "        text-align: right;\n",
       "    }\n",
       "</style>\n",
       "<table border=\"1\" class=\"dataframe\">\n",
       "  <thead>\n",
       "    <tr style=\"text-align: right;\">\n",
       "      <th></th>\n",
       "      <th>Team</th>\n",
       "      <th>Winning%</th>\n",
       "    </tr>\n",
       "  </thead>\n",
       "  <tbody>\n",
       "    <tr>\n",
       "      <th>0</th>\n",
       "      <td>Real Madrid</td>\n",
       "      <td>59.630702</td>\n",
       "    </tr>\n",
       "    <tr>\n",
       "      <th>1</th>\n",
       "      <td>Barcelona</td>\n",
       "      <td>57.241130</td>\n",
       "    </tr>\n",
       "    <tr>\n",
       "      <th>2</th>\n",
       "      <td>Atletico Madrid</td>\n",
       "      <td>47.475134</td>\n",
       "    </tr>\n",
       "    <tr>\n",
       "      <th>3</th>\n",
       "      <td>Valencia</td>\n",
       "      <td>44.557057</td>\n",
       "    </tr>\n",
       "    <tr>\n",
       "      <th>4</th>\n",
       "      <td>Athletic Bilbao</td>\n",
       "      <td>43.772629</td>\n",
       "    </tr>\n",
       "    <tr>\n",
       "      <th>5</th>\n",
       "      <td>Sevilla</td>\n",
       "      <td>41.112957</td>\n",
       "    </tr>\n",
       "    <tr>\n",
       "      <th>6</th>\n",
       "      <td>Espanyol</td>\n",
       "      <td>36.100533</td>\n",
       "    </tr>\n",
       "    <tr>\n",
       "      <th>7</th>\n",
       "      <td>Real Sociedad</td>\n",
       "      <td>37.532580</td>\n",
       "    </tr>\n",
       "    <tr>\n",
       "      <th>8</th>\n",
       "      <td>Zaragoza</td>\n",
       "      <td>35.146022</td>\n",
       "    </tr>\n",
       "    <tr>\n",
       "      <th>9</th>\n",
       "      <td>Real Betis</td>\n",
       "      <td>35.069444</td>\n",
       "    </tr>\n",
       "    <tr>\n",
       "      <th>10</th>\n",
       "      <td>Deportivo La Coruna</td>\n",
       "      <td>36.797386</td>\n",
       "    </tr>\n",
       "    <tr>\n",
       "      <th>13</th>\n",
       "      <td>Racing Santander</td>\n",
       "      <td>31.722689</td>\n",
       "    </tr>\n",
       "    <tr>\n",
       "      <th>14</th>\n",
       "      <td>Sporting Gijon</td>\n",
       "      <td>32.304527</td>\n",
       "    </tr>\n",
       "    <tr>\n",
       "      <th>17</th>\n",
       "      <td>Oviedo</td>\n",
       "      <td>34.228188</td>\n",
       "    </tr>\n",
       "    <tr>\n",
       "      <th>18</th>\n",
       "      <td>Mallorca</td>\n",
       "      <td>33.704453</td>\n",
       "    </tr>\n",
       "    <tr>\n",
       "      <th>19</th>\n",
       "      <td>Las Palmas</td>\n",
       "      <td>33.485401</td>\n",
       "    </tr>\n",
       "    <tr>\n",
       "      <th>20</th>\n",
       "      <td>Villarreal</td>\n",
       "      <td>41.176471</td>\n",
       "    </tr>\n",
       "    <tr>\n",
       "      <th>44</th>\n",
       "      <td>Arenas</td>\n",
       "      <td>33.076923</td>\n",
       "    </tr>\n",
       "  </tbody>\n",
       "</table>\n",
       "</div>"
      ],
      "text/plain": [
       "                   Team   Winning%\n",
       "0           Real Madrid  59.630702\n",
       "1             Barcelona  57.241130\n",
       "2       Atletico Madrid  47.475134\n",
       "3              Valencia  44.557057\n",
       "4       Athletic Bilbao  43.772629\n",
       "5               Sevilla  41.112957\n",
       "6              Espanyol  36.100533\n",
       "7         Real Sociedad  37.532580\n",
       "8              Zaragoza  35.146022\n",
       "9            Real Betis  35.069444\n",
       "10  Deportivo La Coruna  36.797386\n",
       "13     Racing Santander  31.722689\n",
       "14       Sporting Gijon  32.304527\n",
       "17               Oviedo  34.228188\n",
       "18             Mallorca  33.704453\n",
       "19           Las Palmas  33.485401\n",
       "20           Villarreal  41.176471\n",
       "44               Arenas  33.076923"
      ]
     },
     "execution_count": 17,
     "metadata": {},
     "output_type": "execute_result"
    }
   ],
   "source": [
    "print('The list of the teams which have attained best position between 1-3:')\n",
    "df13 = liga_df[liga_df['BestPosition'].between(1,3)][['Team','Winning%']]\n",
    "df13"
   ]
  },
  {
   "cell_type": "code",
   "execution_count": 18,
   "metadata": {},
   "outputs": [
    {
     "name": "stdout",
     "output_type": "stream",
     "text": [
      "The list of the teams which have attained best position between 4-7:\n"
     ]
    },
    {
     "data": {
      "text/html": [
       "<div>\n",
       "<style scoped>\n",
       "    .dataframe tbody tr th:only-of-type {\n",
       "        vertical-align: middle;\n",
       "    }\n",
       "\n",
       "    .dataframe tbody tr th {\n",
       "        vertical-align: top;\n",
       "    }\n",
       "\n",
       "    .dataframe thead th {\n",
       "        text-align: right;\n",
       "    }\n",
       "</style>\n",
       "<table border=\"1\" class=\"dataframe\">\n",
       "  <thead>\n",
       "    <tr style=\"text-align: right;\">\n",
       "      <th></th>\n",
       "      <th>Team</th>\n",
       "      <th>Winning%</th>\n",
       "    </tr>\n",
       "  </thead>\n",
       "  <tbody>\n",
       "    <tr>\n",
       "      <th>11</th>\n",
       "      <td>Celta Vigo</td>\n",
       "      <td>34.511190</td>\n",
       "    </tr>\n",
       "    <tr>\n",
       "      <th>12</th>\n",
       "      <td>Valladolid</td>\n",
       "      <td>31.582538</td>\n",
       "    </tr>\n",
       "    <tr>\n",
       "      <th>15</th>\n",
       "      <td>Osasuna</td>\n",
       "      <td>32.321700</td>\n",
       "    </tr>\n",
       "    <tr>\n",
       "      <th>16</th>\n",
       "      <td>Malaga</td>\n",
       "      <td>31.075697</td>\n",
       "    </tr>\n",
       "    <tr>\n",
       "      <th>21</th>\n",
       "      <td>Granada</td>\n",
       "      <td>29.380054</td>\n",
       "    </tr>\n",
       "    <tr>\n",
       "      <th>23</th>\n",
       "      <td>Elche</td>\n",
       "      <td>29.941003</td>\n",
       "    </tr>\n",
       "    <tr>\n",
       "      <th>24</th>\n",
       "      <td>Getafe</td>\n",
       "      <td>32.236842</td>\n",
       "    </tr>\n",
       "    <tr>\n",
       "      <th>25</th>\n",
       "      <td>Hercules</td>\n",
       "      <td>29.299363</td>\n",
       "    </tr>\n",
       "    <tr>\n",
       "      <th>26</th>\n",
       "      <td>Tenerife</td>\n",
       "      <td>31.376518</td>\n",
       "    </tr>\n",
       "    <tr>\n",
       "      <th>28</th>\n",
       "      <td>Alaves</td>\n",
       "      <td>32.894737</td>\n",
       "    </tr>\n",
       "    <tr>\n",
       "      <th>29</th>\n",
       "      <td>Levante</td>\n",
       "      <td>28.109453</td>\n",
       "    </tr>\n",
       "    <tr>\n",
       "      <th>30</th>\n",
       "      <td>Salamanca</td>\n",
       "      <td>29.078014</td>\n",
       "    </tr>\n",
       "    <tr>\n",
       "      <th>31</th>\n",
       "      <td>Sabadell</td>\n",
       "      <td>30.281690</td>\n",
       "    </tr>\n",
       "    <tr>\n",
       "      <th>33</th>\n",
       "      <td>Logrones</td>\n",
       "      <td>27.745665</td>\n",
       "    </tr>\n",
       "    <tr>\n",
       "      <th>34</th>\n",
       "      <td>Castellon</td>\n",
       "      <td>30.838323</td>\n",
       "    </tr>\n",
       "    <tr>\n",
       "      <th>35</th>\n",
       "      <td>Albacete</td>\n",
       "      <td>28.148148</td>\n",
       "    </tr>\n",
       "    <tr>\n",
       "      <th>37</th>\n",
       "      <td>Cordoba</td>\n",
       "      <td>29.078014</td>\n",
       "    </tr>\n",
       "    <tr>\n",
       "      <th>41</th>\n",
       "      <td>Pontevedra</td>\n",
       "      <td>29.444444</td>\n",
       "    </tr>\n",
       "    <tr>\n",
       "      <th>46</th>\n",
       "      <td>Gimnastic</td>\n",
       "      <td>29.310345</td>\n",
       "    </tr>\n",
       "    <tr>\n",
       "      <th>51</th>\n",
       "      <td>Real Union</td>\n",
       "      <td>29.166667</td>\n",
       "    </tr>\n",
       "  </tbody>\n",
       "</table>\n",
       "</div>"
      ],
      "text/plain": [
       "          Team   Winning%\n",
       "11  Celta Vigo  34.511190\n",
       "12  Valladolid  31.582538\n",
       "15     Osasuna  32.321700\n",
       "16      Malaga  31.075697\n",
       "21     Granada  29.380054\n",
       "23       Elche  29.941003\n",
       "24      Getafe  32.236842\n",
       "25    Hercules  29.299363\n",
       "26    Tenerife  31.376518\n",
       "28      Alaves  32.894737\n",
       "29     Levante  28.109453\n",
       "30   Salamanca  29.078014\n",
       "31    Sabadell  30.281690\n",
       "33    Logrones  27.745665\n",
       "34   Castellon  30.838323\n",
       "35    Albacete  28.148148\n",
       "37     Cordoba  29.078014\n",
       "41  Pontevedra  29.444444\n",
       "46   Gimnastic  29.310345\n",
       "51  Real Union  29.166667"
      ]
     },
     "execution_count": 18,
     "metadata": {},
     "output_type": "execute_result"
    }
   ],
   "source": [
    "print('The list of the teams which have attained best position between 4-7:')\n",
    "df47 = liga_df[liga_df['BestPosition'].between(4,7)][['Team','Winning%']]\n",
    "df47"
   ]
  },
  {
   "cell_type": "code",
   "execution_count": 19,
   "metadata": {},
   "outputs": [
    {
     "data": {
      "text/plain": [
       "0     59.630702\n",
       "1     57.241130\n",
       "2     47.475134\n",
       "3     44.557057\n",
       "4     43.772629\n",
       "5     41.112957\n",
       "6     36.100533\n",
       "7     37.532580\n",
       "8     35.146022\n",
       "9     35.069444\n",
       "10    36.797386\n",
       "13    31.722689\n",
       "14    32.304527\n",
       "17    34.228188\n",
       "18    33.704453\n",
       "19    33.485401\n",
       "20    41.176471\n",
       "44    33.076923\n",
       "Name: Winning%, dtype: float64"
      ]
     },
     "execution_count": 19,
     "metadata": {},
     "output_type": "execute_result"
    }
   ],
   "source": [
    "pos13 = df13['Winning%']\n",
    "pos13"
   ]
  },
  {
   "cell_type": "code",
   "execution_count": 20,
   "metadata": {},
   "outputs": [
    {
     "data": {
      "text/plain": [
       "11    34.511190\n",
       "12    31.582538\n",
       "15    32.321700\n",
       "16    31.075697\n",
       "21    29.380054\n",
       "23    29.941003\n",
       "24    32.236842\n",
       "25    29.299363\n",
       "26    31.376518\n",
       "28    32.894737\n",
       "29    28.109453\n",
       "30    29.078014\n",
       "31    30.281690\n",
       "33    27.745665\n",
       "34    30.838323\n",
       "35    28.148148\n",
       "37    29.078014\n",
       "41    29.444444\n",
       "46    29.310345\n",
       "51    29.166667\n",
       "Name: Winning%, dtype: float64"
      ]
     },
     "execution_count": 20,
     "metadata": {},
     "output_type": "execute_result"
    }
   ],
   "source": [
    "pos47 = df47['Winning%']\n",
    "pos47"
   ]
  },
  {
   "cell_type": "code",
   "execution_count": 21,
   "metadata": {},
   "outputs": [],
   "source": [
    "import scipy.stats as stats\n",
    "from scipy.stats import ttest_ind,shapiro,mannwhitneyu,wilcoxon"
   ]
  },
  {
   "cell_type": "code",
   "execution_count": 57,
   "metadata": {},
   "outputs": [
    {
     "name": "stdout",
     "output_type": "stream",
     "text": [
      "From the test statistics (0.8252524733543396, 0.003532945876941085) we see that the p_value < 0.05 hence data pos13 is normally distributed \n"
     ]
    }
   ],
   "source": [
    "#To check whether winning % for the best position between 1-3 is normal or not\n",
    "print(f'From the test statistics {shapiro(pos13)} we see that the p_value < 0.05 hence data pos13 is normally distributed ')"
   ]
  },
  {
   "cell_type": "code",
   "execution_count": 55,
   "metadata": {},
   "outputs": [
    {
     "name": "stdout",
     "output_type": "stream",
     "text": [
      "From the test statistics (0.9436671733856201, 0.2809881269931793) we see that the p_value > 0.05 hence data pos47 is not normally distributed \n"
     ]
    }
   ],
   "source": [
    "print(f'From the test statistics {shapiro(pos47)} we see that the p_value > 0.05 hence data pos47 is not normally distributed ')"
   ]
  },
  {
   "cell_type": "markdown",
   "metadata": {},
   "source": [
    "H0:- mu(pos13) = mu(pos47)\n",
    "There is no significant difference in winning% between the teams which have attained best position between 1-3 and 4-7.\n",
    "\n",
    "Ha:- mu(pos13) != mu(pos47)\n",
    "There is a significant difference in winning% between the teams which have attained best position between 1-3 and 4-7.    "
   ]
  },
  {
   "cell_type": "code",
   "execution_count": 58,
   "metadata": {},
   "outputs": [
    {
     "name": "stdout",
     "output_type": "stream",
     "text": [
      "Out of the two data sets pos13 and pos47,pos 13 is normal while pos47 is not normal, therefore we perform the non-parametric t-test for independent groups\n",
      "From the test statistics, MannwhitneyuResult(statistic=11.0, pvalue=4.1876636593687686e-07) we see that the p_value < 0.05 hence we can conclude that there is a significant difference in winning% between the teams which have attained best position between 1-3 and 4-7.\n"
     ]
    }
   ],
   "source": [
    "print('Out of the two data sets pos13 and pos47,pos 13 is normal while pos47 is not normal, therefore we perform the non-parametric t-test for independent groups.')\n",
    "print(f'From the test statistics, {mannwhitneyu(pos13,pos47)} we see that the p_value < 0.05 hence we can conclude that there is a significant difference in winning% between the teams which have attained best position between 1-3 and 4-7.')      "
   ]
  },
  {
   "cell_type": "markdown",
   "metadata": {},
   "source": [
    "### 2.A study was done to measure the blood pressure of 60 year old women with glaucoma.A random sample of 200 60-year old women with glaucoma was chosen.The mean of the systolic blood pressure in the sample was 140 mm Hg and the standard deviation was 25 mm Hg."
   ]
  },
  {
   "cell_type": "markdown",
   "metadata": {},
   "source": [
    "#### a) Calculate the estimated standard error of the sample mean? What does the standard error indicate?"
   ]
  },
  {
   "cell_type": "code",
   "execution_count": 25,
   "metadata": {},
   "outputs": [],
   "source": [
    "n = 200\n",
    "sd = 25 \n",
    "X_bar = 140"
   ]
  },
  {
   "cell_type": "code",
   "execution_count": 26,
   "metadata": {},
   "outputs": [
    {
     "name": "stdout",
     "output_type": "stream",
     "text": [
      "The estimated standard error of the sample mean is 1.7677669529663687\n",
      "Standard error indicates the deviation of the sample mean from the true mean of the population.\n"
     ]
    }
   ],
   "source": [
    "SEM = sd/np.sqrt(n)\n",
    "print('The estimated standard error of the sample mean is',SEM)\n",
    "print('Standard error indicates the deviation of the sample mean from the true mean of the population.')"
   ]
  },
  {
   "cell_type": "markdown",
   "metadata": {},
   "source": [
    "#### b)Estimate a 95% confidence interval for the true mean blood pressure for all 60-year old women with glaucoma."
   ]
  },
  {
   "cell_type": "markdown",
   "metadata": {},
   "source": [
    "We need to compute $\\overline{X} \\quad \\pm 1.96 \\frac {\\sigma} {\\sqrt{n}}$ "
   ]
  },
  {
   "cell_type": "code",
   "execution_count": 27,
   "metadata": {},
   "outputs": [
    {
     "data": {
      "text/plain": [
       "1.96"
      ]
     },
     "execution_count": 27,
     "metadata": {},
     "output_type": "execute_result"
    }
   ],
   "source": [
    "Z = np.abs(round(stats.norm.isf(0.025), 2))# alpha/2\n",
    "Z"
   ]
  },
  {
   "cell_type": "code",
   "execution_count": 28,
   "metadata": {},
   "outputs": [
    {
     "name": "stdout",
     "output_type": "stream",
     "text": [
      "95% confidence interval for the true mean blood pressure for all 60-year old women with glaucoma lies within the range of 136.535mm Hg to 143.465mm Hg.\n"
     ]
    }
   ],
   "source": [
    "Lower_Interval = X_bar - (1.96 * SEM)\n",
    "Upper_Interval = X_bar + (1.96 * SEM)\n",
    "print(f'95% confidence interval for the true mean blood pressure for all 60-year old women with glaucoma lies within the range of {round(Lower_Interval,3)}mm Hg to {round(Upper_Interval,3)}mm Hg.')"
   ]
  },
  {
   "cell_type": "markdown",
   "metadata": {},
   "source": [
    "#### c)Assume that instead of 200, a random sample of only 100 60-year old women with glaucoma was chosen. The sample mean and standard deviation estimates are the same as those in the original study. What is the estimated 95% confidence interval for the true mean blood pressure?"
   ]
  },
  {
   "cell_type": "code",
   "execution_count": 29,
   "metadata": {},
   "outputs": [
    {
     "data": {
      "text/plain": [
       "2.5"
      ]
     },
     "execution_count": 29,
     "metadata": {},
     "output_type": "execute_result"
    }
   ],
   "source": [
    "n = 100\n",
    "x_bar = 140\n",
    "sd = 25\n",
    "SEM = sd/np.sqrt(n)\n",
    "SEM"
   ]
  },
  {
   "cell_type": "code",
   "execution_count": 30,
   "metadata": {},
   "outputs": [
    {
     "name": "stdout",
     "output_type": "stream",
     "text": [
      "95% confidence interval for the true mean blood pressure for all 60-year old women with glaucoma lies within the range of 135.1mm Hg to 144.9mm Hg.\n"
     ]
    }
   ],
   "source": [
    "Lower_Interval = X_bar - (1.96 * SEM)\n",
    "Upper_Interval = X_bar + (1.96 * SEM)\n",
    "print(f'95% confidence interval for the true mean blood pressure for all 60-year old women with glaucoma lies within the range of {round(Lower_Interval,3)}mm Hg to {round(Upper_Interval,3)}mm Hg.')"
   ]
  },
  {
   "cell_type": "markdown",
   "metadata": {},
   "source": [
    "#### d)\tWhich of the two above intervals are wider?"
   ]
  },
  {
   "cell_type": "markdown",
   "metadata": {},
   "source": [
    "Result:- Out of the above two problems,where in one the sample size=200 and in other the sample size=100,the interval is wider for the sample size = 100"
   ]
  },
  {
   "cell_type": "markdown",
   "metadata": {},
   "source": [
    "#### e)Explain in non-technical terms why the estimated standard error of a sample mean tends to decrease with an increase in sample size."
   ]
  },
  {
   "cell_type": "markdown",
   "metadata": {},
   "source": [
    "Inference:-As the sample size increases, the SEM value decreases therefore the range between which the population mean lies also increases."
   ]
  },
  {
   "cell_type": "markdown",
   "metadata": {},
   "source": [
    "We know that SEM = sd/np.sqrt(n), so as the value of the denominator(n) increases, the SEM value decreases i.e as the sample size increases sample mean becomes more close towards the population mean and the data is less spreaded or in other words we can say that we are able to predict the population mean with less error."
   ]
  },
  {
   "cell_type": "markdown",
   "metadata": {},
   "source": [
    "### 3.One of the researchers voiced concern about the effect of the new coating on driving distances. Par would like the new cut-resistant ball to offer driving distances comparable to those of the current-model golf ball. To compare the driving distances for the two balls, 40 balls of both the new and current models were subjected to distance tests. The testing was performed with a mechanical hitting machine so that any difference between the mean distances for the two models could be attributed to a difference in the design. The results of the tests, with distances measured to the nearest yard, are contained in   the data set “Golf”."
   ]
  },
  {
   "cell_type": "code",
   "execution_count": 31,
   "metadata": {},
   "outputs": [
    {
     "data": {
      "text/html": [
       "<div>\n",
       "<style scoped>\n",
       "    .dataframe tbody tr th:only-of-type {\n",
       "        vertical-align: middle;\n",
       "    }\n",
       "\n",
       "    .dataframe tbody tr th {\n",
       "        vertical-align: top;\n",
       "    }\n",
       "\n",
       "    .dataframe thead th {\n",
       "        text-align: right;\n",
       "    }\n",
       "</style>\n",
       "<table border=\"1\" class=\"dataframe\">\n",
       "  <thead>\n",
       "    <tr style=\"text-align: right;\">\n",
       "      <th></th>\n",
       "      <th>Current</th>\n",
       "      <th>New</th>\n",
       "    </tr>\n",
       "  </thead>\n",
       "  <tbody>\n",
       "    <tr>\n",
       "      <th>0</th>\n",
       "      <td>264</td>\n",
       "      <td>277</td>\n",
       "    </tr>\n",
       "    <tr>\n",
       "      <th>1</th>\n",
       "      <td>261</td>\n",
       "      <td>269</td>\n",
       "    </tr>\n",
       "    <tr>\n",
       "      <th>2</th>\n",
       "      <td>267</td>\n",
       "      <td>263</td>\n",
       "    </tr>\n",
       "    <tr>\n",
       "      <th>3</th>\n",
       "      <td>272</td>\n",
       "      <td>266</td>\n",
       "    </tr>\n",
       "    <tr>\n",
       "      <th>4</th>\n",
       "      <td>258</td>\n",
       "      <td>262</td>\n",
       "    </tr>\n",
       "  </tbody>\n",
       "</table>\n",
       "</div>"
      ],
      "text/plain": [
       "   Current  New\n",
       "0      264  277\n",
       "1      261  269\n",
       "2      267  263\n",
       "3      272  266\n",
       "4      258  262"
      ]
     },
     "execution_count": 31,
     "metadata": {},
     "output_type": "execute_result"
    }
   ],
   "source": [
    "golf_df = pd.read_csv('Golf.csv')\n",
    "golf_df.head()"
   ]
  },
  {
   "cell_type": "code",
   "execution_count": 32,
   "metadata": {},
   "outputs": [
    {
     "name": "stdout",
     "output_type": "stream",
     "text": [
      "<class 'pandas.core.frame.DataFrame'>\n",
      "RangeIndex: 40 entries, 0 to 39\n",
      "Data columns (total 2 columns):\n",
      " #   Column   Non-Null Count  Dtype\n",
      "---  ------   --------------  -----\n",
      " 0   Current  40 non-null     int64\n",
      " 1   New      40 non-null     int64\n",
      "dtypes: int64(2)\n",
      "memory usage: 768.0 bytes\n"
     ]
    }
   ],
   "source": [
    "golf_df.info()"
   ]
  },
  {
   "cell_type": "markdown",
   "metadata": {},
   "source": [
    "#### 1.Formulate and present the rationale for a hypothesis test that Par could use to compare the driving distances of the current and new golf balls."
   ]
  },
  {
   "cell_type": "code",
   "execution_count": 33,
   "metadata": {},
   "outputs": [],
   "source": [
    "Dist_old_ball = golf_df['Current']\n",
    "Dist_new_ball = golf_df['New']"
   ]
  },
  {
   "cell_type": "markdown",
   "metadata": {},
   "source": [
    "H0:-Xob_bar = Xnb_bar.\n",
    "There is no such significant difference in the mean driving distance between both the balls after providing new coating.\n",
    "\n",
    "Ha:-Xob_bar != Xnb_bar.\n",
    "There is significant difference in the mean driving distance between both the balls after providing new coating."
   ]
  },
  {
   "cell_type": "markdown",
   "metadata": {},
   "source": [
    "\n",
    "#### 2.\tAnalyze the data to provide the hypothesis testing conclusion. What is the p-value for your test? What is your recommendation for Par Inc.?"
   ]
  },
  {
   "cell_type": "markdown",
   "metadata": {},
   "source": [
    "Test for normality:-\n",
    "H0:- The data is normal\n",
    "Ha:- The data is not normal    "
   ]
  },
  {
   "cell_type": "code",
   "execution_count": 54,
   "metadata": {},
   "outputs": [
    {
     "name": "stdout",
     "output_type": "stream",
     "text": [
      "From the test statistics (0.9707046747207642, 0.378787100315094) we see that the p_value > 0.05 hence data for old_ball is not normally distributed \n"
     ]
    }
   ],
   "source": [
    "print(f'From the test statistics {shapiro(Dist_old_ball)} we see that the p_value > 0.05 hence data for old_ball is not normally distributed ')"
   ]
  },
  {
   "cell_type": "code",
   "execution_count": 53,
   "metadata": {},
   "outputs": [
    {
     "name": "stdout",
     "output_type": "stream",
     "text": [
      "From the test statistics (0.9678263664245605, 0.3064655363559723) we see that the p_value > 0.05 hence data for new_ball is not normally distributed \n"
     ]
    }
   ],
   "source": [
    "print(f'From the test statistics {shapiro(Dist_new_ball)} we see that the p_value > 0.05 hence data for new_ball is not normally distributed ')"
   ]
  },
  {
   "cell_type": "code",
   "execution_count": 83,
   "metadata": {},
   "outputs": [
    {
     "name": "stdout",
     "output_type": "stream",
     "text": [
      "Out the two data sets, we see that data for uncoated balls and coated balls are not normally distributed, therefore we perform the non-parametric t-test for dependent groups\n",
      "From the test statistics WilcoxonResult(statistic=291.5, pvalue=0.2516033447950283), we see that as the p_value is > 0.05, hence we can conclude that there is no such significant difference in the mean driving distance between both the balls after providing new coating.\n"
     ]
    }
   ],
   "source": [
    "print('Out the two data sets, we see that data for uncoated balls and coated balls are not normally distributed, therefore we perform the non-parametric t-test for dependent groups')\n",
    "print(f'From the test statistics {wilcoxon(Dist_old_ball,Dist_new_ball)}, we see that as the p_value is > 0.05, hence we can conclude that there is no such significant difference in the mean driving distance between both the balls after providing new coating.')"
   ]
  },
  {
   "cell_type": "markdown",
   "metadata": {},
   "source": [
    "#### 3.\tWhat is the 95% confidence interval for the population mean of each model, and what is the 95% confidence interval for the difference between the means of the two population?"
   ]
  },
  {
   "cell_type": "code",
   "execution_count": 52,
   "metadata": {},
   "outputs": [
    {
     "data": {
      "text/plain": [
       "1.96"
      ]
     },
     "execution_count": 52,
     "metadata": {},
     "output_type": "execute_result"
    }
   ],
   "source": [
    "Z = round(stats.norm.isf(0.025),2)# as alpha = 0.05\n",
    "Z"
   ]
  },
  {
   "cell_type": "code",
   "execution_count": 36,
   "metadata": {},
   "outputs": [
    {
     "data": {
      "text/plain": [
       "(270.275, 8.642880017679293, 40)"
      ]
     },
     "execution_count": 36,
     "metadata": {},
     "output_type": "execute_result"
    }
   ],
   "source": [
    "Xob_bar=np.mean(Dist_old_ball)\n",
    "sd1 = np.std(Dist_old_ball)\n",
    "n1=40\n",
    "Xob_bar,sd1,n1"
   ]
  },
  {
   "cell_type": "code",
   "execution_count": 76,
   "metadata": {},
   "outputs": [
    {
     "name": "stdout",
     "output_type": "stream",
     "text": [
      "95% confidence interval for the population mean of the uncoated ball lies within the range 267.597 to 273.304\n"
     ]
    }
   ],
   "source": [
    "LI = Xob_bar - Z*sd1/np.sqrt(n1)\n",
    "UI = Xob_bar + Z*sd2/np.sqrt(n2)\n",
    "print(f'95% confidence interval for the population mean of the uncoated ball lies within the range {round(LI,3)} to {round(UI,3)}')"
   ]
  },
  {
   "cell_type": "code",
   "execution_count": 39,
   "metadata": {},
   "outputs": [
    {
     "data": {
      "text/plain": [
       "(267.5, 9.772410142846033, 40)"
      ]
     },
     "execution_count": 39,
     "metadata": {},
     "output_type": "execute_result"
    }
   ],
   "source": [
    "Xnb_bar=np.mean(Dist_new_ball)\n",
    "sd2=np.std(Dist_new_ball)\n",
    "n2=40\n",
    "Xnb_bar,sd2,n2"
   ]
  },
  {
   "cell_type": "code",
   "execution_count": 75,
   "metadata": {},
   "outputs": [
    {
     "name": "stdout",
     "output_type": "stream",
     "text": [
      "95% confidence interval for the population mean of the coated ball lies within the range 264.822 to 270.529\n"
     ]
    }
   ],
   "source": [
    "LI = Xnb_bar - Z*sd1/np.sqrt(n1)\n",
    "UI = Xnb_bar + Z*sd2/np.sqrt(n2)\n",
    "print(f'95% confidence interval for the population mean of the coated ball lies within the range {round(LI,3)} to {round(UI,3)}')"
   ]
  },
  {
   "cell_type": "code",
   "execution_count": 41,
   "metadata": {},
   "outputs": [
    {
     "data": {
      "text/plain": [
       "2.7749999999999773"
      ]
     },
     "execution_count": 41,
     "metadata": {},
     "output_type": "execute_result"
    }
   ],
   "source": [
    "diff = Xob_bar - Xnb_bar\n",
    "diff"
   ]
  },
  {
   "cell_type": "code",
   "execution_count": 82,
   "metadata": {},
   "outputs": [
    {
     "name": "stdout",
     "output_type": "stream",
     "text": [
      "95% confidence interval for the difference between the mean driving distance of the two varieties of the ball lies within the range -1.268 to 6.818\n"
     ]
    }
   ],
   "source": [
    "lb = diff-Z*np.sqrt((np.power(sd1,2)/n1)+(np.power(sd2,2)/n2))\n",
    "Ub = diff+Z*np.sqrt((np.power(sd1,2)/n1)+(np.power(sd2,2)/n2))                    \n",
    "lb,Ub \n",
    "print(f'95% confidence interval for the difference between the mean driving distance of the two varieties of the ball lies within the range {round(lb,3)} to {round(Ub,3)}')"
   ]
  },
  {
   "cell_type": "markdown",
   "metadata": {},
   "source": [
    "### Thank you!"
   ]
  }
 ],
 "metadata": {
  "kernelspec": {
   "display_name": "Python 3",
   "language": "python",
   "name": "python3"
  },
  "language_info": {
   "codemirror_mode": {
    "name": "ipython",
    "version": 3
   },
   "file_extension": ".py",
   "mimetype": "text/x-python",
   "name": "python",
   "nbconvert_exporter": "python",
   "pygments_lexer": "ipython3",
   "version": "3.8.5"
  }
 },
 "nbformat": 4,
 "nbformat_minor": 4
}
